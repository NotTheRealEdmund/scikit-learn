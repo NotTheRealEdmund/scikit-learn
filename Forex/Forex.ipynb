{
 "cells": [
  {
   "cell_type": "code",
   "execution_count": 1,
   "metadata": {},
   "outputs": [],
   "source": [
    "# Import required packages\n",
    "import pandas as pd\n",
    "from sklearn.preprocessing import LabelEncoder, StandardScaler\n",
    "from sklearn.model_selection import train_test_split\n",
    "from sklearn.svm import SVC\n",
    "from sklearn import svm\n",
    "from sklearn.metrics import confusion_matrix, classification_report, accuracy_score"
   ]
  },
  {
   "cell_type": "code",
   "execution_count": 2,
   "metadata": {},
   "outputs": [],
   "source": [
    "# Load dataset\n",
    "data = pd.read_csv('USD-to-SGD-2019-1-minute-updated.csv')"
   ]
  },
  {
   "cell_type": "code",
   "execution_count": 3,
   "metadata": {},
   "outputs": [
    {
     "data": {
      "text/html": [
       "<div>\n",
       "<style scoped>\n",
       "    .dataframe tbody tr th:only-of-type {\n",
       "        vertical-align: middle;\n",
       "    }\n",
       "\n",
       "    .dataframe tbody tr th {\n",
       "        vertical-align: top;\n",
       "    }\n",
       "\n",
       "    .dataframe thead th {\n",
       "        text-align: right;\n",
       "    }\n",
       "</style>\n",
       "<table border=\"1\" class=\"dataframe\">\n",
       "  <thead>\n",
       "    <tr style=\"text-align: right;\">\n",
       "      <th></th>\n",
       "      <th>timestamp</th>\n",
       "      <th>open</th>\n",
       "      <th>high</th>\n",
       "      <th>low</th>\n",
       "      <th>close</th>\n",
       "      <th>volume</th>\n",
       "    </tr>\n",
       "  </thead>\n",
       "  <tbody>\n",
       "    <tr>\n",
       "      <td>0</td>\n",
       "      <td>2019-01-01 17:00</td>\n",
       "      <td>1.36239</td>\n",
       "      <td>1.36240</td>\n",
       "      <td>1.36239</td>\n",
       "      <td>1.36240</td>\n",
       "      <td>0.0</td>\n",
       "    </tr>\n",
       "    <tr>\n",
       "      <td>1</td>\n",
       "      <td>2019-01-01 17:01</td>\n",
       "      <td>1.36242</td>\n",
       "      <td>1.36242</td>\n",
       "      <td>1.36238</td>\n",
       "      <td>1.36238</td>\n",
       "      <td>0.0</td>\n",
       "    </tr>\n",
       "    <tr>\n",
       "      <td>2</td>\n",
       "      <td>2019-01-01 17:02</td>\n",
       "      <td>1.36256</td>\n",
       "      <td>1.36256</td>\n",
       "      <td>1.36256</td>\n",
       "      <td>1.36256</td>\n",
       "      <td>0.0</td>\n",
       "    </tr>\n",
       "    <tr>\n",
       "      <td>3</td>\n",
       "      <td>2019-01-01 17:03</td>\n",
       "      <td>1.36255</td>\n",
       "      <td>1.36255</td>\n",
       "      <td>1.36255</td>\n",
       "      <td>1.36255</td>\n",
       "      <td>0.0</td>\n",
       "    </tr>\n",
       "    <tr>\n",
       "      <td>4</td>\n",
       "      <td>2019-01-01 17:04</td>\n",
       "      <td>1.36256</td>\n",
       "      <td>1.36270</td>\n",
       "      <td>1.36256</td>\n",
       "      <td>1.36270</td>\n",
       "      <td>0.0</td>\n",
       "    </tr>\n",
       "  </tbody>\n",
       "</table>\n",
       "</div>"
      ],
      "text/plain": [
       "          timestamp     open     high      low    close  volume\n",
       "0  2019-01-01 17:00  1.36239  1.36240  1.36239  1.36240     0.0\n",
       "1  2019-01-01 17:01  1.36242  1.36242  1.36238  1.36238     0.0\n",
       "2  2019-01-01 17:02  1.36256  1.36256  1.36256  1.36256     0.0\n",
       "3  2019-01-01 17:03  1.36255  1.36255  1.36255  1.36255     0.0\n",
       "4  2019-01-01 17:04  1.36256  1.36270  1.36256  1.36270     0.0"
      ]
     },
     "execution_count": 3,
     "metadata": {},
     "output_type": "execute_result"
    }
   ],
   "source": [
    "# Show the first 5 entries in the dataset\n",
    "data.head()"
   ]
  },
  {
   "cell_type": "code",
   "execution_count": 4,
   "metadata": {},
   "outputs": [
    {
     "name": "stdout",
     "output_type": "stream",
     "text": [
      "<class 'pandas.core.frame.DataFrame'>\n",
      "RangeIndex: 370612 entries, 0 to 370611\n",
      "Data columns (total 6 columns):\n",
      "timestamp    370612 non-null object\n",
      "open         370612 non-null float64\n",
      "high         370612 non-null float64\n",
      "low          370612 non-null float64\n",
      "close        370612 non-null float64\n",
      "volume       370612 non-null float64\n",
      "dtypes: float64(5), object(1)\n",
      "memory usage: 17.0+ MB\n"
     ]
    }
   ],
   "source": [
    "# Show general information of the values in each column\n",
    "data.info()"
   ]
  },
  {
   "cell_type": "markdown",
   "metadata": {},
   "source": [
    "# Preprocessing data"
   ]
  },
  {
   "cell_type": "code",
   "execution_count": 5,
   "metadata": {},
   "outputs": [
    {
     "data": {
      "text/plain": [
       "[bad, good]\n",
       "Categories (2, object): [bad < good]"
      ]
     },
     "execution_count": 5,
     "metadata": {},
     "output_type": "execute_result"
    }
   ],
   "source": [
    "# This sorts out closing prices into either bad or good depending on the mean of all the closing prices in 2019\n",
    "mean_closing_price = sum(data['close']) / 370612\n",
    "# bins determines the range, from 1 to mean_closing_price is bad, from mean_closing_price to 2 is good\n",
    "bins = (1, mean_closing_price, 2)\n",
    "group_names = ['bad', 'good']\n",
    "data['close'] = pd.cut(data['close'], bins = bins, labels = group_names)\n",
    "data['close'].unique()"
   ]
  },
  {
   "cell_type": "code",
   "execution_count": 6,
   "metadata": {},
   "outputs": [],
   "source": [
    "# LabelEncoder applies bad = 0 and good = 1\n",
    "le = LabelEncoder()"
   ]
  },
  {
   "cell_type": "code",
   "execution_count": 7,
   "metadata": {},
   "outputs": [],
   "source": [
    "# fit_transform replaces the closing prices with 0s and 1s\n",
    "data['close'] = le.fit_transform(data['close'])"
   ]
  },
  {
   "cell_type": "code",
   "execution_count": 8,
   "metadata": {},
   "outputs": [
    {
     "data": {
      "text/plain": [
       "0    230832\n",
       "1    139780\n",
       "Name: close, dtype: int64"
      ]
     },
     "execution_count": 8,
     "metadata": {},
     "output_type": "execute_result"
    }
   ],
   "source": [
    "# Show the number of bad closing prices and good closing prices\n",
    "data['close'].value_counts()"
   ]
  },
  {
   "cell_type": "markdown",
   "metadata": {},
   "source": [
    "# Response variable and Feature variable"
   ]
  },
  {
   "cell_type": "code",
   "execution_count": 9,
   "metadata": {},
   "outputs": [],
   "source": [
    "# Separate the dataset into response variable(y) and feature variable(X) to be used in the model\n",
    "# X is the entry with all the columns except the closing price\n",
    "# y is the closing price\n",
    "# We are trying to predict the closing price from the other features\n",
    "# Drop timestamp and volume as well because those will not help in predicting the closing price\n",
    "X = data.drop(['timestamp', 'volume', 'close'], axis = 1)\n",
    "y = data['close']"
   ]
  },
  {
   "cell_type": "markdown",
   "metadata": {},
   "source": [
    "# Train/Test split"
   ]
  },
  {
   "cell_type": "code",
   "execution_count": 10,
   "metadata": {},
   "outputs": [],
   "source": [
    "# The dataset is split into a training set and a testing set\n",
    "# The training set creates the model\n",
    "# The testing set measures the accuracy of the model\n",
    "# Typically 80% for training, and 20% for testing\n",
    "\n",
    "# train_test_split splits dataset into random train and test subsets\n",
    "# Each time you run it without specifying random_state, you will get a different result because the split is different\n",
    "# By specifying the same random_state for every run, the outputs for every run will be always the same.\n",
    "# It doesn't matter what the actual random_state number is as long as it is consistent.\n",
    "# This is important for testing.\n",
    "X_train, X_test, y_train, y_test = train_test_split(X, y, test_size = 0.2, random_state = 42)"
   ]
  },
  {
   "cell_type": "markdown",
   "metadata": {},
   "source": [
    "# Standard scaling"
   ]
  },
  {
   "cell_type": "code",
   "execution_count": 11,
   "metadata": {},
   "outputs": [],
   "source": [
    "# Applying standard scaling to get optimized result\n",
    "# Standard scaling normalizes(mean = 0 and standard deviation = 1) the features/variables/columns of X individually\n",
    "# before applying machine learning techniques\n",
    "sc = StandardScaler()\n",
    "X_train = sc.fit_transform(X_train)\n",
    "X_test = sc.transform(X_test)"
   ]
  },
  {
   "cell_type": "markdown",
   "metadata": {},
   "source": [
    "# SVM Classifier"
   ]
  },
  {
   "cell_type": "code",
   "execution_count": 12,
   "metadata": {},
   "outputs": [],
   "source": [
    "# Create the model\n",
    "clf = svm.SVC()\n",
    "clf.fit(X_train, y_train)\n",
    "pred_clf = clf.predict(X_test)"
   ]
  },
  {
   "cell_type": "code",
   "execution_count": 13,
   "metadata": {},
   "outputs": [
    {
     "data": {
      "text/plain": [
       "array([1, 0, 0, 0, 1, 0, 1, 0, 1, 1, 1, 1, 1, 0, 0, 0, 0, 1, 0, 1])"
      ]
     },
     "execution_count": 13,
     "metadata": {},
     "output_type": "execute_result"
    }
   ],
   "source": [
    "# Look at the first 20 entries predicted, 10 closing prices are bad and 10 closing prices are good\n",
    "# (Compared to mean of all the closing prices in 2019)\n",
    "pred_clf[:20]\n",
    "# The probability of closing prices being 50% good and 50% bad each is a sign of the forex's self-correction mechanism"
   ]
  },
  {
   "cell_type": "code",
   "execution_count": 14,
   "metadata": {},
   "outputs": [
    {
     "name": "stdout",
     "output_type": "stream",
     "text": [
      "              precision    recall  f1-score   support\n",
      "\n",
      "           0       1.00      1.00      1.00     46305\n",
      "           1       1.00      1.00      1.00     27818\n",
      "\n",
      "    accuracy                           1.00     74123\n",
      "   macro avg       1.00      1.00      1.00     74123\n",
      "weighted avg       1.00      1.00      1.00     74123\n",
      "\n",
      "[[46257    48]\n",
      " [   30 27788]]\n"
     ]
    }
   ],
   "source": [
    "# See how well the model performed\n",
    "print(classification_report(y_test, pred_clf))\n",
    "print(confusion_matrix(y_test, pred_clf))\n",
    "# This model is good at predicting both bad closing prices and good closing prices\n",
    "# y-axis is the actual values and x-axis is the predicted values\n",
    "# For the confusion matrix, [[a  b]\n",
    "#                            [c  d]]\n",
    "# From a, percentage of bad closing prices predicted correct = 46257/(46257 + 48)\n",
    "# From b, percentage of bad closing prices predicted wrong = 48/(46257 + 48)\n",
    "# From c, percentage of good closing prices predicted wrong = 30/(27788 + 30)\n",
    "# From d, percentage of good closing prices predicted correct = 27788/(27788 + 30)"
   ]
  },
  {
   "cell_type": "code",
   "execution_count": 15,
   "metadata": {},
   "outputs": [
    {
     "data": {
      "text/plain": [
       "0.9989476950474212"
      ]
     },
     "execution_count": 15,
     "metadata": {},
     "output_type": "execute_result"
    }
   ],
   "source": [
    "# Get the accuracy of the model as a final percentage\n",
    "cm = accuracy_score(y_test, pred_clf)\n",
    "cm"
   ]
  }
 ],
 "metadata": {
  "kernelspec": {
   "display_name": "Python 3",
   "language": "python",
   "name": "python3"
  },
  "language_info": {
   "codemirror_mode": {
    "name": "ipython",
    "version": 3
   },
   "file_extension": ".py",
   "mimetype": "text/x-python",
   "name": "python",
   "nbconvert_exporter": "python",
   "pygments_lexer": "ipython3",
   "version": "3.7.4"
  }
 },
 "nbformat": 4,
 "nbformat_minor": 2
}
